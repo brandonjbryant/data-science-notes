{
 "cells": [
  {
   "cell_type": "markdown",
   "metadata": {},
   "source": [
    "### Present: Step 4 to an Effective Chart\n",
    "Understand → Create → Refine → __Present__\n",
    "\n"
   ]
  },
  {
   "cell_type": "markdown",
   "metadata": {},
   "source": [
    "### 4 Keys to _Present_\n",
    "1. Do NOT assume you already have the undivided attention of the audience!\n",
    "2. Identify the \"Big Idea\".\n",
    "    * `big idea` :\n",
    "        * single, complete sentence\n",
    "        * must articulate a unique point of view\n",
    "        * must convey the stakes \n",
    "        * <a href=\"http://resonate.duarte.com/#!page0\">Resonate</a>\n",
    "3. Remind yourself of the Who, What & How <a href= \"https://ds.codeup.com/2.2_Create/\">questions</a>\n",
    "4. Present & Practice\n",
    "    * Show the chart\n",
    "    * Stop talking\n",
    "    * Don't read the picture\n",
    "    * With unusual forms and for added context, guide the audience\n",
    "    * Use reference charts\n",
    "    * When you want them to hear you, turn off the projector/monitor\n",
    "    * Show something simple, leave behind something complicated\n",
    "\n",
    " "
   ]
  },
  {
   "cell_type": "markdown",
   "metadata": {},
   "source": [
    "#### An Effective Storytelling Technique : <a href=\"https://www.juiceanalytics.com/design-principles/gradual-reveal\">The Gradual Reveal</a>\n",
    "\n",
    "__Considerations:__\n",
    "   * Reveals generally are left to right, top to bottom\n",
    "   * Most important information should go at the top\n",
    "   * Reveal information as user expresses interest\n",
    "   * Consider using filtering and interactions\n",
    "   * Consider timed transitions\n",
    "   * Think about how different selections will take users down different paths\n",
    "   * Build understanding as user moves through design\n",
    "   \n",
    "\n",
    "`EXAMPLES` \n",
    "* <a href=\"https://www.bloomberg.com/graphics/2014-america-shakes-off-oil-addiction/\">America Shakes Off Oil Addiction, Bloomberg</a>\n",
    "* <a href=\"https://archive.nytimes.com/www.nytimes.com/interactive/2011/06/19/nyregion/how-many-households-are-like-yours.html\">Interactive from The New York Times</a>\n",
    "* <a href=\"https://guns.periscopic.com/?year=2013\">Animated Graphic Showing U.S. Gun Deaths</a>\n",
    "* <a href=\"https://www.gapminder.org/videos/hans-rosling-ted-2006-debunking-myths-about-the-third-world/\">\"Debunking Myths about the Third World\"</a>\n",
    "*<a href=\"https://www.gapminder.org/ignorance/\">\"Ignorance\"</a>\n",
    "\n",
    "\n",
    "\n"
   ]
  }
 ],
 "metadata": {
  "kernelspec": {
   "display_name": "Python 3",
   "language": "python",
   "name": "python3"
  },
  "language_info": {
   "codemirror_mode": {
    "name": "ipython",
    "version": 3
   },
   "file_extension": ".py",
   "mimetype": "text/x-python",
   "name": "python",
   "nbconvert_exporter": "python",
   "pygments_lexer": "ipython3",
   "version": "3.8.5"
  }
 },
 "nbformat": 4,
 "nbformat_minor": 4
}
