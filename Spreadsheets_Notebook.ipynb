{
 "cells": [
  {
   "cell_type": "markdown",
   "metadata": {},
   "source": [
    "# Spreadsheets Functions"
   ]
  },
  {
   "cell_type": "markdown",
   "metadata": {},
   "source": [
    "## Logical\n",
    "#### `=IF(logical_test, value_if_true, value_if_false)`\n",
    "#### `Comparison operators: =, >, <, >=, <=, <>`"
   ]
  },
  {
   "cell_type": "markdown",
   "metadata": {},
   "source": [
    "### `Comparison Functions : `\n",
    "#### `=ISNA()`\n",
    "#### `=ISNUMBER()`\n",
    "#### `=ISTEXT()`\n",
    "#### `=ISBLANK()`\n",
    "#### `=ISNONTEXT()`\n",
    "#### `=ISLOGICAL()`\n"
   ]
  },
  {
   "cell_type": "markdown",
   "metadata": {},
   "source": [
    "## Text\n",
    "#### `FIND(\"!\", mytext):`  Find the '!' in mytext and return the number \n",
    "of characters it is from the start of the string. \n",
    "####  `LEN(mytext): `Number of characters in mytext.\n",
    "#### `=SUBSTITUTE :`(mytext, \"!\", \"?\"): Replace any \"!\" with \"?\" in mytext.\n",
    "#### `=VALUE(\"6\"): `Converts a number that is being stored as text to a number.\n",
    "#### `=TRIM(mytext):` Remove any leading or trailing whitespaces like \n",
    "the one leading this phrase.\n",
    "#### `Split text into multiple cells:` Data -> Text to Columns\n",
    "#### `=CONCAT(\"H\",\"e\",\"l\",\"l\",\"o\"): ` Merge text from multiple cells into a single cell with no defined delimeter. \"Hello\"\n",
    "#### `=mytext & \" I think...\":`  Concatenate text using '&'...You can merge both cell references and constant strings. \" Caught you smiling! I think...\"\n",
    "#### `=TEXTJOIN(delimeter=\"-\", ignore_empty=TRUE, \"210\", \"867\", \"5309\"):` Place the delimeter between each string of text upon concatenation. \"210-867-5309\"\n",
    "#### `=LEFT(mytext, 3): ` Return the first 3 characters from the left.\n",
    "#### `=RIGHT(mytext, 3)` Return the first 3 characters from the right.\n",
    "#### `=MID(mytext, 2, 3): `  Return the first 3 characters from the left, starting at character 2, so basically return characters 2, 3, & 4.\n",
    "\n"
   ]
  },
  {
   "cell_type": "markdown",
   "metadata": {},
   "source": [
    "### Lookup and Reference\n",
    "#### VLOOKUP : Vertical Lookup\n",
    "     - Looks for a value in the leftmost column of a table, and then returns a value in the same row from a column you specify. By default, the table must be sorted in an ascending order.\n",
    "##### `=VLOOKUP(lookup_value,table_array,col_index_num,range_lookup)`"
   ]
  },
  {
   "cell_type": "markdown",
   "metadata": {},
   "source": [
    "#### `Lookup_value: `  is the value to be found in the first row of the table and can be a value, a reference, or a text string.\n",
    "#### `Table_array: `  is a table of text, numbers, or logical values in which data is looked up. Table_array can be a reference to a range or a range name.\n",
    "#### `Col_index_num:` is the row number in table_array from which the matching value should be returned. The first row of values in the table is row 1.\n",
    "#### `Range_lookup:` is a logical value: to find the closest match in the top row (sorted in ascending order) = TRUE or omitted; find an exact match = FALSE."
   ]
  },
  {
   "cell_type": "markdown",
   "metadata": {},
   "source": [
    "## Date & Time \n",
    "#### `Extracting date parts from a date`\n",
    "#### `mydate = '01/01/2019'`\n",
    "##### `=WEEKDAY(mydate)`\n",
    "##### `=DAY(mydate)`\n",
    "##### `=MONTH(mydate)`\n",
    "##### `=YEAR(mydate)`\n",
    "\n",
    "#### `Formatting dates`\n",
    "#### `See \"more number formats\" in the data type drop down menu to define a custom date format.`\n",
    "##### `yy: 19`\n"
   ]
  },
  {
   "cell_type": "code",
   "execution_count": null,
   "metadata": {},
   "outputs": [],
   "source": []
  }
 ],
 "metadata": {
  "kernelspec": {
   "display_name": "Python 3",
   "language": "python",
   "name": "python3"
  },
  "language_info": {
   "codemirror_mode": {
    "name": "ipython",
    "version": 3
   },
   "file_extension": ".py",
   "mimetype": "text/x-python",
   "name": "python",
   "nbconvert_exporter": "python",
   "pygments_lexer": "ipython3",
   "version": "3.8.5"
  }
 },
 "nbformat": 4,
 "nbformat_minor": 4
}
