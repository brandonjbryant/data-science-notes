{
 "cells": [
  {
   "cell_type": "markdown",
   "metadata": {},
   "source": [
    "# <font color= \"purple\">Regression : Explore Stage</font>\n",
    "\n",
    "* Explore the interactions of all attributes and target variable to help discover drivers of our target variable.\n",
    "\n",
    "```\n",
    "\"Exploratory Data Analysis refers to the critical process of performing initial investigations on data so as to discover patterns, to spot anomalies, to test hypothesis, and to check assumptions with the help of summary statistics and graphical representations.\" - Prasad Patil\n",
    "```\n",
    "\n"
   ]
  },
  {
   "cell_type": "markdown",
   "metadata": {},
   "source": [
    "## <font color=\" green\">Main Stages in Exploration Phase</font>\n",
    "\n",
    "1. **Hypothesize**: Form and document your initial hypotheses about how the predictors (independent variables, features, or attributes) interact with the target (y-value or dependent variable).\n",
    "\n",
    "2. **Visualize**: use visualization techniques (scatterplots, jointplot, pairgrid, heatmap) to identify drivers. When a visualization needs to be followed up with a statistical test, do so.\n",
    "\n",
    "3. **Test your Hypotheses**: We will analyze the drivers of a continuous variable using appropriate statistical tests (t-tests, correlation, and chi-squared hypothesis tests)\n",
    "\n"
   ]
  },
  {
   "cell_type": "markdown",
   "metadata": {},
   "source": [
    "## <font color=\"orange\">Standing Orders for the Exploration Stage</font>\n",
    "\n",
    "* Document your initial hypotheses. Write them down so they're concrete and not in your head.\n",
    "* Document any surprises you may find in visualizing.\n",
    "* Document your hypothesis test results. That means writing up when the tests reject the null hypothesis or fail to reject your null hypothesis, for each hypothesis you make.\n",
    "* Write down your takeaways. Documenting your takeaways is a huge component of your final deliverable/analysis.\n",
    "* Identitfy features that correlate with eachother. If feature A and feature B are each tightly correlated with the target variable, but they're also tightly correlated with eachother, we should use one feature that correlates better, rather than use both.\n"
   ]
  },
  {
   "cell_type": "markdown",
   "metadata": {},
   "source": [
    "#### <font color =\"darkgreen\">General Steps for Visualizations in your Explore Stage</font>\n",
    "\n",
    "* Plot out the distributions of each feature.\n",
    "\n",
    "* This is critical b/c many of our statisitical tools and machine learning algorithms assume certain distributions. If your data isn't remotely normally distributed, then avoid using any tools that assume normally distributed data.\n",
    "\n",
    "* Plot out the interaction of 2 or more variables.\n",
    "\n",
    "* Plot out how subgroups compare to each-other and to the overall population.\n",
    "\n"
   ]
  },
  {
   "cell_type": "markdown",
   "metadata": {},
   "source": [
    "## <font color=\"blue\">Types of Visualizations</font>\n",
    "\n",
    "* **Continous and Continous**\n",
    "    * Scatter-Matrix with seaborn's pairplot\n",
    "    * Scatterplot: relplot and lmplot in seaborn\n",
    "    * Heatmaps of correlation coefficients\n",
    "\n",
    "* **Discrete and Continuous**\n",
    "    * Swarmplot, Violinplot, Box plots\n",
    "\n",
    "\n",
    "* **Bar Plots**\n",
    "    * Discrete x Discrete Variables\n",
    "    * Cross tabulations and heatmaps of them\n"
   ]
  },
  {
   "cell_type": "markdown",
   "metadata": {},
   "source": [
    "```python\n",
    "import matplotlib.pyplot as plt\n",
    "import seaborn as sns\n",
    "\n",
    "import pandas as pd\n",
    "import numpy as np\n",
    "import matplotlib.pyplot as plt\n",
    "import seaborn as sns\n",
    "from sklearn.model_selection import train_test_split\n",
    "import warnings\n",
    "warnings.filterwarnings(\"ignore\")\n",
    "\n",
    "import env\n",
    "import wrangle\n",
    "import split_scale\n",
    "\n",
    "# acquire data and remove null values \n",
    "df = wrangle.wrangle_grades()\n",
    "\n",
    "# split into train, validate, and test sets\n",
    "# Notice that we are keeping X and Y together, so far\n",
    "train_and_validate, test = train_test_split(df, random_state=123)\n",
    "train, validate = train_test_split(train_and_validate, random_state=123)\n",
    "```"
   ]
  },
  {
   "cell_type": "markdown",
   "metadata": {},
   "source": [
    "### seaborn.jointplot\n",
    "```python\n",
    "with sns.axes_style('white'):\n",
    "    j = sns.jointplot(\"exam1\", \"final_grade\", data=train, kind='reg', height=5);\n",
    "plt.show()\n",
    "```"
   ]
  },
  {
   "cell_type": "markdown",
   "metadata": {},
   "source": [
    "### seaborn.pairgrid + matplotlib.pyplot.hist + matplotlib.pyplot.scatter\n",
    "\n",
    "```python\n",
    "\n",
    "# This is roughly equivalent to sns.jointplot, but we see here that we have the\n",
    "# flexibility to customize the type of the plots in each position.\n",
    "\n",
    "g = sns.PairGrid(train)\n",
    "g.map_diag(plt.hist)\n",
    "g.map_offdiag(plt.scatter);\n",
    "```"
   ]
  },
  {
   "cell_type": "markdown",
   "metadata": {},
   "source": [
    "### seaborn.heatmap\n",
    "\n",
    "```python\n",
    "plt.figure(figsize=(8,6))\n",
    "sns.heatmap(train.corr(), cmap='Blues', annot=True)\n",
    "plt.ylim(0, 4)\n",
    "```"
   ]
  },
  {
   "cell_type": "markdown",
   "metadata": {},
   "source": [
    "## <font color =\"red\"> Further Reading</font>\n",
    "\n",
    "* <a href=\"https://jakevdp.github.io/PythonDataScienceHandbook/04.14-visualization-with-seaborn.html\">Visualization With Seaborn</a>\n",
    "\n",
    "* https://towardsdatascience.com/exploratory-data-analysis-8fc1cb20fd15\n",
    "\n",
    "* https://www.itl.nist.gov/div898/handbook/index.html\n",
    "\n",
    "* https://adataanalyst.com/data-analysis-resources/visualise-categorical-variables-in-python/\n",
    "\n",
    "* <a href=\"https://matplotlib.org/3.2.1/gallery/statistics/boxplot_vs_violin.html\">Boxplot vs. Violin example </a>\n",
    "\n",
    "* https://datavizcatalogue.com/\n"
   ]
  },
  {
   "cell_type": "code",
   "execution_count": null,
   "metadata": {},
   "outputs": [],
   "source": []
  }
 ],
 "metadata": {
  "kernelspec": {
   "display_name": "Python 3",
   "language": "python",
   "name": "python3"
  },
  "language_info": {
   "codemirror_mode": {
    "name": "ipython",
    "version": 3
   },
   "file_extension": ".py",
   "mimetype": "text/x-python",
   "name": "python",
   "nbconvert_exporter": "python",
   "pygments_lexer": "ipython3",
   "version": "3.8.5"
  }
 },
 "nbformat": 4,
 "nbformat_minor": 4
}
