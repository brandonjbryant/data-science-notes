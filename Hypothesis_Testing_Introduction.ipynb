{
 "cells": [
  {
   "cell_type": "markdown",
   "metadata": {},
   "source": [
    "## Hypothesis Testing\n",
    "- The process of comparing one hypothesis to another, and using statistics to help evaluate the hypothesis.\n",
    "    - Boy cries wolf for reference\n"
   ]
  },
  {
   "cell_type": "markdown",
   "metadata": {},
   "source": [
    "* __Null Hypothesis__ : The default hypothesis . Usually no change, no effect.\n",
    "    * No difference between two groups. Same behavior.\n",
    "    * Set up enviornment to either reject or fail to reject the null hypothesis\n",
    "    * Same consumption rates\n",
    "    * Null difference/ null effect\n",
    "\n",
    "* __Alternative Hypothesis__ : When null hypothesis us rejected move too accepting the alternative may be the next step.\n",
    "    * Consumption rates are different\n",
    "\n",
    "* __Significance Level, False Positive Rate__ :  False alarm(Type​ 1 Error) \n",
    "    * Alpha = 1 - confidence level\n",
    "    * a= 1 -(what is our threshhold for accepting findings even if they're random.\n",
    "        * (example : set confidence level to 95%\n",
    "            a = 1 -.95 + .05)\n",
    "     * Set your confidence level and your alpha before you expirement\n",
    "\n",
    "* __Statistical Power__ : \n",
    "\n",
    "* __False Negative Rate__ : How many <u>misses</u> you have.(Type 2 Error) \n",
    "    * (example: check engine lights stays off, but your engine actually has issues.)\n",
    "    \n",
    "\n",
    "* __p-value__ : If the p > alpha we fail to reject the null hypothesis.\n",
    "        * If the p  < alpha \n",
    "        * Probability we observed given null hypothesis is true"
   ]
  },
  {
   "cell_type": "markdown",
   "metadata": {},
   "source": [
    "- _True Positive_ = check engine light turns on, and ther eis a problem.\n",
    "- _True Negative_ = check engine light remains off, and everything is fine\n",
    "- _False Positive_ = false alarm(engine light on, but no problem)\n",
    "- _False Negative_ = miss = engine light stays off but there's actually a problem"
   ]
  },
  {
   "cell_type": "markdown",
   "metadata": {},
   "source": [
    "  * __Alpha__ = 1 - confidence level\n",
    "    * a= 1 -(what is our threshhold for accepting findings even if they're random.\n",
    "        * (example : set confidence level to 95%\n",
    "            a = 1 -.95 + .05)\n",
    "     * Set your confidence level and your alpha before you expirement- \n",
    "  - __Lower Alpha__ : Lower tolerance for getting the results we get from chance/randomness"
   ]
  },
  {
   "cell_type": "markdown",
   "metadata": {},
   "source": [
    "## Perform Hypothesis \n",
    "1. Choose the right type of test for your data / question1\n",
    "2. Set a desired confidence level and form hyoptheses\n",
    "3. Calculate the appropriate test statistics and p-value\n",
    "4. Conclude based on the above statistics\n"
   ]
  },
  {
   "cell_type": "markdown",
   "metadata": {},
   "source": [
    "### Central Limit Theorem\n",
    "- Tells us that the __sampling distribution__ for a random variable is normally distributed, even if the underlying random variable is not.\n",
    "\n"
   ]
  },
  {
   "cell_type": "code",
   "execution_count": 1,
   "metadata": {},
   "outputs": [
    {
     "data": {
      "text/plain": [
       "array([[6, 3, 5, 3, 2, 4, 3, 4, 2, 2],\n",
       "       [1, 2, 2, 1, 1, 2, 4, 6, 5, 1],\n",
       "       [1, 5, 2, 4, 3, 5, 3, 5, 1, 6],\n",
       "       [1, 2, 4, 5, 5, 5, 2, 6, 4, 3]])"
      ]
     },
     "execution_count": 1,
     "metadata": {},
     "output_type": "execute_result"
    }
   ],
   "source": [
    "## Central limit theorem example \n",
    "# roll 10 dice and take the average roll\n",
    "%matplotlib inline\n",
    "import matplotlib.pyplot as plt\n",
    "import numpy as np\n",
    "np.random.seed(123)\n",
    "\n",
    "n_dice_per_experiment = ncols = 10\n",
    "n_experiments = nrows = 100\n",
    "\n",
    "data = np.random.randint(1, 7, (nrows, ncols))\n",
    "\n",
    "data[:4]\n",
    "\n"
   ]
  },
  {
   "cell_type": "code",
   "execution_count": 2,
   "metadata": {},
   "outputs": [
    {
     "data": {
      "text/plain": [
       "array([3.4, 2.5, 3.5, 3.7, 3.2, 4.7, 3.4, 3.2, 3.4, 3. , 3.7, 3.5, 4. ,\n",
       "       4.5, 2.9, 2.8, 2.9, 3.8, 3.2, 3.6, 3.4, 4. , 3.5, 3.3, 3.6, 3. ,\n",
       "       4.3, 3. , 3.3, 3.2, 4.2, 3.9, 3.2, 3.8, 3.6, 3.4, 2.7, 3.4, 3.2,\n",
       "       3.1, 3.2, 3. , 4.1, 3.3, 3. , 4.1, 3.4, 3.3, 2.9, 3.8, 3.4, 3.6,\n",
       "       3.9, 3.2, 4.7, 3.8, 3.5, 2.8, 3.8, 4.7, 4.1, 3.5, 2.8, 3.7, 3.4,\n",
       "       3.7, 3.6, 4.1, 3.6, 3.5, 2.9, 4. , 3.2, 3.4, 4.4, 2.9, 3.2, 3.9,\n",
       "       1.9, 3. , 3. , 3.5, 3.3, 4.4, 3.4, 4.2, 4.1, 3.2, 3.5, 3.5, 3.8,\n",
       "       3.1, 3.6, 2.9, 2.9, 4. , 3.3, 3.1, 3.4, 3.6])"
      ]
     },
     "execution_count": 2,
     "metadata": {},
     "output_type": "execute_result"
    }
   ],
   "source": [
    "calculated_averages = data.mean(axis=1)\n",
    "calculated_averages"
   ]
  },
  {
   "cell_type": "code",
   "execution_count": 3,
   "metadata": {},
   "outputs": [
    {
     "data": {
      "text/plain": [
       "Text(0.5, 1.0, 'Outcome of averaging 10 dice rolls 100 times')"
      ]
     },
     "execution_count": 3,
     "metadata": {},
     "output_type": "execute_result"
    },
    {
     "data": {
      "image/png": "[encoded data removed]",
      "text/plain": [
       "<Figure size 432x288 with 1 Axes>"
      ]
     },
     "metadata": {
      "needs_background": "light"
     },
     "output_type": "display_data"
    }
   ],
   "source": [
    "plt.hist(calculated_averages)\n",
    "plt.xlabel(f'Average of {n_dice_per_experiment} dice rolls')\n",
    "plt.ylabel('# of Occurances')\n",
    "plt.title(f'Outcome of averaging {n_dice_per_experiment} dice rolls {n_experiments} times')"
   ]
  },
  {
   "cell_type": "markdown",
   "metadata": {},
   "source": [
    "## Null and Alternate Hypothesis\n",
    "- The question being asked needs to be phrased as a __null hypothesis__ and an __alternative hypothesis__.\n",
    "- `Null Hypothesis` : the \"status quo\", and usually reflects no change or no difference\n",
    "- `Alternative Hypthesis` : says that there is a difference or change.\n",
    "    - _examples_ : \n",
    "        * H0 : There is no difference in right-handed people and left-handed individual's heights.\n",
    "        * Ha : There is a difference in right-handed people and left-handed individual's heights.\n",
    "        * H0 : The amount of sleep a student gets the night before an exam makes no difference on the student's exam score.\n",
    "        * Ha :  Less sleep the night before an exam leads to a lower exam score.\n",
    "\n",
    "* Results of a hypothesis test will lead us to either __reject the null hypothesis__, or fail to __reject the null hypothesis__.\n",
    "* Alternative hypothesis can either be that there is a difference or that the difference is either grater or less than.\n",
    "    * This tells us whether we are setting up a __two-tailed__ (for any difference) or __one-tailed__ (for a specific difference) test."
   ]
  },
  {
   "cell_type": "markdown",
   "metadata": {},
   "source": [
    "### Hypothesis Test Results\n",
    "- Choose a __confidence interval__, a range of values within we are sure our statistic will fall a certain percent of the time, for our testing before you begin.\n",
    "\n",
    "- By choosing a confidence interval, we set our significance level, α (alpha) as well. α is defined as 1 - our confidence level. Typical values for our confidence interval are 95%, 99% and 99.9%."
   ]
  },
  {
   "cell_type": "markdown",
   "metadata": {},
   "source": [
    "## p-values\n",
    "- the chance that we obtained the results we did (or would obtain more extreme results) due to chance if the null hypothesis is true.\n",
    "    - _example_ : example, imagine we were testing the hypothesis that Codeup students that drink coffee have higher grades. Our hypotheses would be: \n",
    "    *H0 : There is no difference in grade for coffee and non-coffee drinkers. \n",
    "    *Ha : Coffee drinkers have higher grades than non-coffee drinkers.\n",
    "        - imagine we end up with a p-value of .05. \n",
    "        - This means that if it's true that there is no difference in grades, and we ran the experiment 20 times, we would expect 1 out of the 20 experiments to tell us that there is a difference in grades, purely due to chance.\n",
    "\n",
    "- Note that p-values don't tell us anything about effect size."
   ]
  },
  {
   "cell_type": "markdown",
   "metadata": {},
   "source": [
    "## Hypothesis Testing Errors\n",
    "- two types of errors: \n",
    "    * __Type 1__ error : <u>reject</u> the null hypothesis, but, in reality, the null hypothesis is true.\n",
    "    * __Type 2__ error : <u>fail to reject</u> the null hypothesis when it is actually false."
   ]
  }
 ],
 "metadata": {
  "kernelspec": {
   "display_name": "Python 3",
   "language": "python",
   "name": "python3"
  },
  "language_info": {
   "codemirror_mode": {
    "name": "ipython",
    "version": 3
   },
   "file_extension": ".py",
   "mimetype": "text/x-python",
   "name": "python",
   "nbconvert_exporter": "python",
   "pygments_lexer": "ipython3",
   "version": "3.8.5"
  }
 },
 "nbformat": 4,
 "nbformat_minor": 4
}
