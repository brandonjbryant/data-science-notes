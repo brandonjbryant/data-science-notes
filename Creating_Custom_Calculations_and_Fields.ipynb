{
 "cells": [
  {
   "cell_type": "markdown",
   "metadata": {},
   "source": [
    "## Creating Custom Calculations & Fields\n",
    "- Used to segment data, convert data types, aggregate data, filter results, and calculate ratios.\n"
   ]
  },
  {
   "cell_type": "markdown",
   "metadata": {},
   "source": [
    "### Types of Calculations\n",
    "- 3 primary types of calculations used to create custom fields in Tableau: `Basic Calculations`, `Level of Detail Expressions`, `Table Calculations`\n",
    "\n",
    "#### Basic Calculations\n",
    "\n",
    "- Transform values or members at the __data source__ level of detail(a row-level calculation) \n",
    "- Or Transform at the __visualization__ level of detail (an aggregate calculation).\n",
    "\n",
    "\n",
    "#### Level of Detail Expressions\n",
    "\n",
    "<a href=\"https://help.tableau.com/current/pro/desktop/en-us/calculations_calculatedfields_lod.htm\">Level of Detail(LOD) Expressions</a>\n",
    "\n",
    "- Compute values at the data source level and the visualization level.\n",
    "- LOD calculations give you even more control on the level of granularity you want to compute. \n",
    "     * `(INCLUDE)`: Calculations performed at a _more_ granular level\n",
    "     * `(EXCLUDE)`: Calculations performed at a _less_ granular level\n",
    "     * `(FIXED) `: Calculations performed at an entirely independent level\n",
    "     \n",
    "#### Table Calculations\n",
    "<a href=\"https://help.tableau.com/current/pro/desktop/en-us/calculations_tablecalculations.htm\">Table Calculations</a>\n",
    "\n",
    "-  Transform values at the level of detail of the visualization only."
   ]
  },
  {
   "cell_type": "markdown",
   "metadata": {},
   "source": [
    "### Creating a New Calculation\n",
    "__Simple Calculations__ <a href=\"https://help.tableau.com/current/pro/desktop/en-us/calculations_calculatedfields_formulas.htm\">Create Simple Calculated Field</a>\n",
    "1. Analysis > Create Calculated Field \n",
    "    * OR in the field names on the left, click on down arrow of a field you wish to use in the calculation and select 'Create Calculated Field'.\n",
    "2. Name the new field\n",
    "3. Enter a formula.\n",
    "\n",
    "__AD Hoc Calculations__ :  are calculations that you can create and update as you work with a field on a shelf in the view.\n",
    "<a href=\"https://help.tableau.com/current/pro/desktop/en-us/calculations_calculatedfields_adhoc.htm\">Create AD Hoc Calculations</a> \n",
    "\n",
    "1.Double click on a field in your chart (in the rows or columns list, e.g.) and begin.\n",
    "\n",
    "\n",
    "__Quick Table Calculations__ \n",
    "<a href=\"https://help.tableau.com/current/pro/desktop/en-us/calculations_tablecalculations_quick.htm\">Create Quick Table Calculations</a>\n",
    "1. Click on the menu arrow of a field that exists in your chart/table\n",
    "2. Select 'Quick Table Calculation'\n",
    "3. Follow the options.\n",
    "\n"
   ]
  },
  {
   "cell_type": "markdown",
   "metadata": {},
   "source": [
    "### The Format of Calculations\n",
    "\n",
    "__example__ \n",
    "- IF [Profit per Day] > 2000 THEN \"Highly Profitable\"\n",
    "- ELSEIF[Profit per Day] <= 0 THEN \"Unprofitable\"\n",
    "- ELSE \"Profitable\"\n",
    "- END\n",
    "- // this function labels all profits over 2000 as highly profitable, those <= 0 as unprofitable and all others as profitable.\n",
    "\n",
    "\n",
    "<a href=\"https://help.tableau.com/current/pro/desktop/en-us/functions_operators.htm\">Tableau Help Site</a>\n",
    "\n",
    "* __Functions__ : Transform values or members in a field.\n",
    "    * The <a href=\"https://help.tableau.com/current/pro/desktop/en-us/functions.htm\">functions</a> in the example include IF, THEN, ELSEIF, ELSE, and END.\n",
    "* __Fields__ : dimensions or measures from your data source, i.e. columns\n",
    "    * The <a href=\"https://help.tableau.com/current/pro/desktop/en-us/functions_operators.htm#Fields\">fields</a> in the example include Profit per Day.\n",
    "* __Operators__ : Symbols to denote an operation.\n",
    "    * <a href=\"https://help.tableau.com/current/pro/desktop/en-us/functions_operators.htm#operator-syntax\">Operators</a> in our example include > and <=.\n",
    "* __Literal Expressions__ : constant values that are represented “as is”, such as a string you want to match or return in an if statement. \n",
    "    * The <a href= \"https://help.tableau.com/current/pro/desktop/en-us/functions_operators.htm#literal-expression-syntax\">literal</a> expressions in our example include \"Profitable\", \"Unprofitable\", \"Highly Profitable\", 2000, and 0.\n",
    "* __Parameters__ : placeholder variables that can be inserted into calculations to replace constant values. \n",
    "    * <a href=\"https://help.tableau.com/current/pro/desktop/en-us/parameters_create.htm#create-a-parameter\">Creating parameters</a>\n",
    "* __Comments__ : add comments to any calculations beyond the very basic and simple. \n",
    "    * <a href=\"https://help.tableau.com/current/pro/desktop/en-us/functions_operators.htm#add-comments-to-a-calculation\">Comments</a> are preceded by //.\n",
    "    * The comment in our example is: \"// this function labels all profits over 2000 as highly profitable, those <= 0 as unprofitable and all others as profitable.\"\n",
    "* __Data types__ : include string, date/datetime, number, and boolean.\n",
    "    <a href=\"https://help.tableau.com/current/pro/desktop/en-us/functions_operators.htm#understanding-data-types-in-calculations\">Data Types in Calculations</a>"
   ]
  }
 ],
 "metadata": {
  "kernelspec": {
   "display_name": "Python 3",
   "language": "python",
   "name": "python3"
  },
  "language_info": {
   "codemirror_mode": {
    "name": "ipython",
    "version": 3
   },
   "file_extension": ".py",
   "mimetype": "text/x-python",
   "name": "python",
   "nbconvert_exporter": "python",
   "pygments_lexer": "ipython3",
   "version": "3.8.5"
  }
 },
 "nbformat": 4,
 "nbformat_minor": 4
}
