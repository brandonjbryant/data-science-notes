{
 "cells": [
  {
   "cell_type": "markdown",
   "metadata": {},
   "source": [
    "* A <a href=\"https://help.tableau.com/current/pro/desktop/en-us/dashboards.htm\">dashboard</a> : is a collection of several views or charts.\n",
    "    * When data is modified or a chart in a worksheet is modified, the dashboard is modified, and vice versa.\n",
    "`Who is your audience, what is the purpose of the dashboard, what is the setting or what kind of device will it be viewed on, etc.`"
   ]
  },
  {
   "cell_type": "markdown",
   "metadata": {},
   "source": [
    "### Dashboard Display\n",
    "* <a href =\"https://help.tableau.com/current/pro/desktop/en-us/dashboards_organize_floatingandtiled.htm#dashboard-size-options\">Dashboard Size</a>  - options include:\n",
    "   * `fixed size` (default: dashboard remains the same size)\n",
    "   * `range` (size scales between a min and max value)\n",
    "   * `automatic` (resizes to fit the window used)\n",
    "* <a href=\"https://help.tableau.com/current/pro/desktop/en-us/dashboards_dsd_create.htm\">Dashboard Device Layouts</a> - make use of templates and create dashboard layouts based on the type of device the dashboard will be viewed on (phone, tablet, desktop).\n",
    "* <a href=\"https://help.tableau.com/current/pro/desktop/en-us/accessibility_dashboards.htm\">Accessible Dashboards</a>\n",
    "* <a href=\"https://help.tableau.com/current/pro/desktop/en-us/environ_workbooksandsheets_sheets_hideshow.htm\">Managing Sheets in Dashboard Display</a> -manage your sheets so that your product is clean and simple.\n",
    "    "
   ]
  },
  {
   "cell_type": "markdown",
   "metadata": {},
   "source": [
    "### Dashboard Objects \n",
    "* <a href=\"https://help.tableau.com/current/pro/desktop/en-us/dashboards_create.htm#add-an-object\">Add an Object</a>\n",
    "     1. Select an item from the bottom left corner\n",
    "     2. Drag to the main area on the page.\n",
    "     * To set the options\n",
    "     1. Click the object container to select it\n",
    "     2. Click the arrow in the upper corner to open the shortcut menu.\n",
    "* __Horizontal and vertical objects__ : provide <a href=\"https://help.tableau.com/current/pro/desktop/en-us/dashboards_refine.htm#Use_a_layout_container\">layout containers</a> that let you group related objects together\n",
    "    * Fine-tune how your dashboard resizes when users interact with them.\n",
    "* __Text Objects__ : provide headers, explanations, and other information.\n",
    "* __Image Objects__ : add to the visual flavor of a dashboard, and you can link them to specific target URLs.\n",
    "* __Web Page Objects__  : display target pages in the context of your dashboard. \n",
    "* __Blank Objects__ : help you adjust spacing between dashboard items.\n",
    "* __Navigation Objects__: let your audience navigate from one dashboard to another, or to other sheets or stories.\n",
    "    * You can:\n",
    "        * Display text or an image to indicate the button's destination to your users\n",
    "        * Specify custom border and background colors\n",
    "        * Provide informational tooltips.\n",
    "* __Export Objects__ :let your audience quickly create a PDF file, PowerPoint slide, or PNG image of a dashboard. \n",
    "* __Extension Objects__ : let you add unique features to dashboards or integrate them with applications outside Tableau <a href = \"https://help.tableau.com/current/pro/desktop/en-us/dashboard_extensions.htm\">(more)</a>\n",
    "\n",
    "<a href= \"https://help.tableau.com/current/pro/desktop/en-us/actions_dashboards.htm\">Dashboard Interactivity</a> "
   ]
  }
 ],
 "metadata": {
  "kernelspec": {
   "display_name": "Python 3",
   "language": "python",
   "name": "python3"
  },
  "language_info": {
   "codemirror_mode": {
    "name": "ipython",
    "version": 3
   },
   "file_extension": ".py",
   "mimetype": "text/x-python",
   "name": "python",
   "nbconvert_exporter": "python",
   "pygments_lexer": "ipython3",
   "version": "3.8.5"
  }
 },
 "nbformat": 4,
 "nbformat_minor": 4
}
