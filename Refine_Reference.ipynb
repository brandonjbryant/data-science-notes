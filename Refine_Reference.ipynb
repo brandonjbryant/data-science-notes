{
 "cells": [
  {
   "cell_type": "markdown",
   "metadata": {},
   "source": [
    "## Refine: Third Step to an Effective Chart\n",
    "Understand → Create → __Refine__ → Present "
   ]
  },
  {
   "cell_type": "markdown",
   "metadata": {},
   "source": [
    "### Refine to Impress\n",
    "1. `Structure & hierarchy`\n",
    "2. `Title: 12%`\n",
    "3. `Subtitle: 8%`\n",
    "4. `Visual field: 75%`\n",
    "5. `Sourceline: 5%`\n",
    "6. `Alignment: minimize # of lines`\n",
    "7. `Stay on the page`\n",
    "8. `Clarity`\n",
    "    * No extraneous elements: does each element add meaning?\n",
    "    * All elements support the visual: Does each element highlight the idea and not the structure?\n",
    "    * Remove ambiguity: Does each element have a single, unambigous purpose?\n",
    "    * Use conventions & metaphors: Take advantage of ideas we \"intuitively\" understand.\n",
    "    * Clarify with annotations\n",
    "    * Movement distracts\n",
    "    * Consider presentation resolution\n",
    "    * Provide reference points\n",
    "    * Time contextualizes\n",
    "    * Communicate true scale\n",
    "    * Provide overview and summaries\n",
    "    * Accommodate color blindness\n",
    "    * Use learned symbols\n",
    "    * Use learned structures\n",
    "    * Consider data comfort and expertise\n",
    "9. `Simplicity`\n"
   ]
  },
  {
   "cell_type": "markdown",
   "metadata": {},
   "source": [
    "### Refine to Persuade\n",
    "1. Hone in on the main idea\n",
    "    * \"I need to convince them that...\"\n",
    "    * Provide goals\n",
    "2. Make it stand out\n",
    "3. Adjust what's around it\n",
    "    * manipulate elements to complement or contrast the main point, to make it pop\n",
    "    * remove reference points or plotted data that distracts or dilutes the main idea\n",
    "    * add reference points or plotted data to explose otherwise hidden context.\n",
    "    * shift reference points\n",
    "    * Maximize contrast\n",
    "    * Zoom to navigate"
   ]
  },
  {
   "cell_type": "markdown",
   "metadata": {},
   "source": [
    "### Refine to Empower\n",
    "`When developing an interactive dashboard`\n",
    "\n",
    "- Drill down\n",
    "- Flow\n",
    "- Present invitations\n",
    "- Encourage exploration\n",
    "- Provide instruction\n",
    "- Use redundancy appropriately\n",
    "- Provide alerts\n",
    "- Contextual help\n",
    "- Stay on the page\n",
    "- Minimize clicks\n",
    "- Simulate outcomes\n",
    "- Coordinate linked views\n",
    "- Accessibility needs\n",
    "- Test designs\n",
    "- Minimize interaction dependency\n",
    "- Design for modularity\n"
   ]
  },
  {
   "cell_type": "markdown",
   "metadata": {},
   "source": [
    "### Be Ethical\n",
    "* `Truncated y-axis`: emphasizes or exaggerates change\n",
    "* `Double y-axis`: creates crossovers, matching curves or gaps that don't actually mean anything\n",
    "* `The Map`: size of reagion doesn't necessarily reflect the data encoded in it.\n",
    "* Broken scales show drama where it doesn't exist.\n",
    "* Decoration can be deceiving.\n",
    "* Showing data on two different scales can make for an apples-to-oranges comparison.\n",
    "* Showing a correlation can imply causation. <a href=\"http://www.tylervigen.com/spurious-correlations\">Examples of Spurious Correlations</a>"
   ]
  }
 ],
 "metadata": {
  "kernelspec": {
   "display_name": "Python 3",
   "language": "python",
   "name": "python3"
  },
  "language_info": {
   "codemirror_mode": {
    "name": "ipython",
    "version": 3
   },
   "file_extension": ".py",
   "mimetype": "text/x-python",
   "name": "python",
   "nbconvert_exporter": "python",
   "pygments_lexer": "ipython3",
   "version": "3.8.5"
  }
 },
 "nbformat": 4,
 "nbformat_minor": 4
}
