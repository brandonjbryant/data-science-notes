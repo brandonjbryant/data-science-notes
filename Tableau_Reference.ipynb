{
 "cells": [
  {
   "cell_type": "markdown",
   "metadata": {},
   "source": [
    "## Tableau Products :\n",
    "\n",
    "\n",
    "* <a href=\"https://public.tableau.com/en-us/s/\">Tableau Public</a>\n",
    "\n",
    "* <a href=\"https://www.tableau.com/products/desktop\">Tableau Desktop</a>\n",
    "\n",
    "* <a href=\"https://www.tableau.com/products/server\">Tableau Server</a>\n",
    "\n",
    "* <a href=\"https://www.tableau.com/products/cloud-bi\">Tableau Online</a>\n",
    "\n",
    "* <a href=\"https://www.tableau.com/products/prep\">Tableau Prep</a> "
   ]
  },
  {
   "cell_type": "markdown",
   "metadata": {},
   "source": [
    "### Tableau Resources :\n",
    "\n",
    "*  <a href=\"https://public.tableau.com/en-us/s/resources\">Tableau How-to Videos, Sample Data, & Live Training</a> \n",
    "\n",
    "* <a href=\"https://public.tableau.com/en-us/s/gallery\">Viz Gallery</a>\n",
    "\n",
    "* <a href=\"https://public.tableau.com/en-us/s/authors#!/\">Leading Authors & Artists</a>\n",
    "\n",
    "### Examples of Charts :\n",
    "\n",
    "* <a href=\"https://public.tableau.com/en-us/search/blogs/creating%20charts\">Blog Posts on Creating Charts</a>\n",
    "\n",
    "* <a href=\"https://public.tableau.com/profile/technical.product.marketing#!/vizhome/UnemploymentHorizionChart_1/HorizonChart\">Horizon Chart: Unemployment</a>\n",
    "\n",
    "* <a href=\"https://public.tableau.com/profile/iting#!/vizhome/170414_tax2014-15_genderpaygap/malejobs\">Positive + Negative Bar Chart: Gender Pay Gap</a>\n",
    "\n",
    "* <a href=\"https://public.tableau.com/profile/tableaubims#!/vizhome/ArrowChartCometChart/Arrowchart\">Arrow Chart & Comet Chart: Sales</a>\n",
    "\n",
    "\n",
    "### Examples of Dashboards :\n",
    "\n",
    "* <a href=\"https://public.tableau.com/en-us/search/blogs/DASHBOARD\">Blog Posts on Dashboards</a>\n",
    "\n",
    "* <a href=\"https://public.tableau.com/s/blog/2013/10/dashboard-layout-and-design\">Blog: Designing Useful Dashboards on Tableau</a>\n",
    "\n",
    "* <a href=\"https://public.tableau.com/en-us/s/gallery/adams-twitter-analytics?gallery=featured\">Dashboard: Twitter Analytics</a>\n",
    "\n",
    "* <a href=\"https://public.tableau.com/profile/zillow.real.estate.research#!/vizhome/TopPlacestoRetire/Dashboard1\">Dashboard: Top Places to Retire</a>\n",
    "\n",
    "* <a href=\"https://public.tableau.com/s/blog/2015/06/using-custom-shapes-dashboard-filters\">How-to: Custom Filters</a>\n",
    "\n",
    "* <a href=\"https://public.tableau.com/s/blog/2017/12/how-add-illustrations-your-dashboard-and-why-you-should-care\">How-to: Add Visual Elements</a>"
   ]
  },
  {
   "cell_type": "markdown",
   "metadata": {},
   "source": [
    "### Examples of Stories :\n",
    "\n",
    "* <a href=\"https://public.tableau.com/en-us/s/gallery/journey-2018-world-series?gallery=votd\">2018 World Series</a>\n",
    "\n",
    "* <a href= \"https://public.tableau.com/profile/sean.oslin#!/vizhome/StMungoHospitalAnnualReportPart1/Dashboard1\">St. Mungo Hospital Annual Report</a>\n",
    "\n",
    "* <a href=\"https://public.tableau.com/profile/raycom.news.network#!/vizhome/Whichcountieshadthemostopioidprescriptionsin2015MobileVersion/Dashboard2\">Mobile example: Which countries has the most opiod prescriptions in 2015?</a>\n",
    "\n",
    "* <a href=\"https://public.tableau.com/en-us/s/gallery/2018-deloitte-technology-fast-500?gallery=featured\">Deloitte Technology Fast 500</a>\n",
    "\n",
    "* <a href=\"https://public.tableau.com/en-us/s/gallery/online-holiday-shopping?gallery=featured\">Holiday Shopping</a>\n",
    "\n",
    "* <a href=\"https://public.tableau.com/en-us/s/gallery/it-trends-2018?gallery=featured\">IT Trends 2018</a>\n",
    "\n",
    "* <a href=\"https://public.tableau.com/profile/andy.kriebel#!/vizhome/VisualVocabulary/VisualVocabulary\">A Data Viz Storyboard about Data Visualizations</a>"
   ]
  },
  {
   "cell_type": "markdown",
   "metadata": {},
   "source": [
    "### Tableau File Types\n",
    "\n",
    " `.twb` - <u>Tableau Workbook</u>: Stores visualization without source data.\n",
    " \n",
    "\n",
    "`.tds` - <u>Tableau Data Source</u>: Stores the server address, password, and other information required to access a datasource.\n",
    "\n",
    " `.tbm` - <u>Tableau Bookmark</u>: Stores a connection to a worksheet in another Tableau workbook.\n",
    "\n",
    " `.tde` - <u>Tableau Data Extract</u>: Stores Tableau data as a filtered and aggregated extract.\n",
    "\n",
    " `.twbx` - <u>Tableau Packaged Workbook</u>: Stores extracted data and visualizations for viewing in Tableau or Tableau Reader."
   ]
  }
 ],
 "metadata": {
  "kernelspec": {
   "display_name": "Python 3",
   "language": "python",
   "name": "python3"
  },
  "language_info": {
   "codemirror_mode": {
    "name": "ipython",
    "version": 3
   },
   "file_extension": ".py",
   "mimetype": "text/x-python",
   "name": "python",
   "nbconvert_exporter": "python",
   "pygments_lexer": "ipython3",
   "version": "3.8.5"
  }
 },
 "nbformat": 4,
 "nbformat_minor": 4
}
