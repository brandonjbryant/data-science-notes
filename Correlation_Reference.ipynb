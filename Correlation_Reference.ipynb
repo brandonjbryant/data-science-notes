{
 "cells": [
  {
   "cell_type": "markdown",
   "metadata": {},
   "source": [
    "## Correlation \n",
    "- why thing go up when other thing go down?\n",
    "-used to check if two samples are related. They are often used for feature selection and multivariate analysis in data preprocessing and exploration."
   ]
  },
  {
   "cell_type": "markdown",
   "metadata": {},
   "source": [
    "## Pearson's Correlation Coefficient\n",
    "- The goal of this test is to answer the question: `do two samples have a linear relationship?`\n",
    "\n",
    "        * To answer this question, we will take the following steps:\n",
    "\n",
    "1. Calculate the Pearson correlation coefficient, $r_x$$_y$\n",
    "2. Calculate the corresponding t-values\n",
    "3. Test whether the t-values are significant or not\n",
    "\n",
    "-Most common "
   ]
  },
  {
   "cell_type": "code",
   "execution_count": 1,
   "metadata": {},
   "outputs": [],
   "source": [
    "#imports\n",
    "#data load\n",
    "import pandas as pd\n",
    "import numpy as np\n",
    "import matplotlib.pyplot as plt\n",
    "from math import sqrt\n",
    "from scipy import stats\n",
    "from pydataset import data"
   ]
  },
  {
   "cell_type": "markdown",
   "metadata": {},
   "source": [
    "### Pre-Set Values\n",
    "Before we perform the test, we will choose some values for our confidence interval and, based on that value, our alpha."
   ]
  },
  {
   "cell_type": "code",
   "execution_count": null,
   "metadata": {},
   "outputs": [],
   "source": [
    "n = df.shape[0]     # number of observations\n",
    "degf = n - 2        # degrees of freedom: the # of values in the final calculation of a statistic that are free to vary.\n",
    "conf_interval = .95 # desired confidence interval\n",
    "α = 1 - conf_interval"
   ]
  },
  {
   "cell_type": "markdown",
   "metadata": {},
   "source": [
    "- When performing a correlation test, our null hypothesis is that there is no linear correlation between the two variables.\n",
    "\n",
    "- $H_0$ : There is no linear correlation between the number of hours studied and the score on the exam."
   ]
  },
  {
   "cell_type": "markdown",
   "metadata": {},
   "source": [
    "### Calculate Pearson Correlation Coefficient\n",
    "- The correlation coefficient, $r_x$$_y$, is a unitless continuous numerical measure between -1 and 1, where 1 = perfect correlation and -1 = perfect negative correlation.\n",
    "    * Once we have our __t-statistic__, we can find our p-value by looking up the t-statistic in a t-table, or by using scipy's t distribution:\n",
    "    * Lastly, we compare our p value to our alpha that we selected earlier:\n",
    "    * If __p__ is less than __alpha__, we _reject our null hypothesis_ that there is no linear correlation between the number of hours studied and exam score.\n"
   ]
  },
  {
   "cell_type": "markdown",
   "metadata": {},
   "source": [
    "# The Easy Way\n",
    "- Provided by scipy's `stats` module in it's `pearsonr` function.\n",
    "\n",
    "    * corr, p = stats.pearsonr(x, y)\n",
    "    * corr, p"
   ]
  },
  {
   "cell_type": "markdown",
   "metadata": {},
   "source": [
    "## Correlation Gotchas\n",
    "1. Correlation is not causality.\n",
    "2. Correlation measures _linear_ relationship between the 2 variables. \n",
    "   * However, there may be other types of relationships, such as a <u>quadratic or absolute value relationship</u>.\n",
    "3. Correlations can be misleading when confounding variables are ignored.\n",
    "4. Correlation tells you nothing about how large the relationship is."
   ]
  },
  {
   "cell_type": "markdown",
   "metadata": {},
   "source": [
    "### Correlation is Not Causation\n",
    "-Correlation means that __two variables are associated__, but <u>doesn't tell us whether one causes the other or not.</u>\n",
    "\n"
   ]
  },
  {
   "cell_type": "markdown",
   "metadata": {},
   "source": [
    "### Confounding Variables\n",
    "- We must be careful because correlation <u>_doesn't tell the whole story of a dataset_</u>.   \n",
    "- Correlation just looks at two variables in __isolation__, and doesn't account for any others. \n",
    "     * For example, a certain subgroup could have a strong correlation while another does not, or a third variable could be influencing both of the variables."
   ]
  },
  {
   "cell_type": "markdown",
   "metadata": {},
   "source": [
    "### Scale of the Relationship\n",
    "- The correlation coefficient shows us how linearly correlated two variables are, but doesn't tell us the scale. \n",
    "- One variable could increase/decrease in lock step with another, but the size of the change could be tiny.\n",
    "\n"
   ]
  }
 ],
 "metadata": {
  "kernelspec": {
   "display_name": "Python 3",
   "language": "python",
   "name": "python3"
  },
  "language_info": {
   "codemirror_mode": {
    "name": "ipython",
    "version": 3
   },
   "file_extension": ".py",
   "mimetype": "text/x-python",
   "name": "python",
   "nbconvert_exporter": "python",
   "pygments_lexer": "ipython3",
   "version": "3.8.5"
  }
 },
 "nbformat": 4,
 "nbformat_minor": 4
}
