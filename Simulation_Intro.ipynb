{
 "cells": [
  {
   "cell_type": "markdown",
   "metadata": {},
   "source": [
    "# Simulation \n"
   ]
  },
  {
   "cell_type": "code",
   "execution_count": null,
   "metadata": {},
   "outputs": [],
   "source": [
    "%matplotlib inline\n",
    "import numpy as np\n",
    "import pandas as pd\n",
    "\n",
    "import viz # curriculum example visualizations\n",
    "\n",
    "np.random.seed(29)"
   ]
  },
  {
   "cell_type": "markdown",
   "metadata": {},
   "source": [
    "### Generating Random Numbers with Numpy\n",
    "   * The numpy.random module provides a number of functions for generating random numbers.\n",
    "        * `np.random.choice`: selects random options from a list\n",
    "        * `np.random.uniform`: generates numbers between a given lower and upper bound\n",
    "        * `np.random.random`: generates numbers between 0 and 1 \n",
    "        * `np.random.randn`: generates numbers from the standard normal distribution\n",
    "        * `np.random.normal`: generates numbers from a normal distribution with a specified mean and standard deviation"
   ]
  },
  {
   "cell_type": "markdown",
   "metadata": {},
   "source": [
    "__Bonus Exercises__\n",
    "* <a href=\"https://gist.github.com/ryanorsinger/2996446f02c1bf30fcb3f8fdb88bd51d\">Mage Duel</a>\n",
    "* <a href=\"https://gist.github.com/ryanorsinger/eac1d7b7e978f90b8390bdc056312123\">Chuck a Luck</a>"
   ]
  }
 ],
 "metadata": {
  "kernelspec": {
   "display_name": "Python 3",
   "language": "python",
   "name": "python3"
  },
  "language_info": {
   "codemirror_mode": {
    "name": "ipython",
    "version": 3
   },
   "file_extension": ".py",
   "mimetype": "text/x-python",
   "name": "python",
   "nbconvert_exporter": "python",
   "pygments_lexer": "ipython3",
   "version": "3.8.5"
  }
 },
 "nbformat": 4,
 "nbformat_minor": 4
}
