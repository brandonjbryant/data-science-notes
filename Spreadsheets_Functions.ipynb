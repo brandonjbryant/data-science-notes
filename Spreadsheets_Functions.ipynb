{
 "cells": [
  {
   "cell_type": "markdown",
   "metadata": {},
   "source": [
    "# <u>Spreadsheets Functions</u>"
   ]
  },
  {
   "cell_type": "markdown",
   "metadata": {},
   "source": [
    "## <u>Logical</u>\n",
    "* __=IF__ (logical_test, value_if_true, value_if_false)\n",
    "* __Comparison operators__: =, >, <, >=, <=, <>"
   ]
  },
  {
   "cell_type": "markdown",
   "metadata": {},
   "source": [
    "## <u>Comparison Functions</u> : \n",
    "* __=ISNA()__\n",
    "* __=ISNUMBER()__\n",
    "* __=ISTEXT()__\n",
    "* __=ISBLANK()__\n",
    "* __=ISNONTEXT()__\n",
    "* __=ISLOGICAL()__\n"
   ]
  },
  {
   "cell_type": "markdown",
   "metadata": {},
   "source": [
    "## <u> Text </u>\n",
    "* __FIND(\"!\", mytext)__:  Find the '!' in mytext and return the number \n",
    "of characters it is from the start of the string. \n",
    "* __LEN(mytext)__: `Number of characters in mytext.\n",
    "* __=SUBSTITUTE__ :`(mytext, \"!\", \"?\"): Replace any \"!\" with \"?\" in mytext.\n",
    "* __=VALUE(\"6\")__: `Converts a number that is being stored as text to a number.\n",
    "* __=TRIM(mytext)__:` Remove any leading or trailing whitespaces like \n",
    "the one leading this phrase.\n",
    "* __Split text into multiple cells__: Data -> Text to Columns\n",
    "* __=CONCAT(\"H\",\"e\",\"l\",\"l\",\"o\")__:  Merge text from multiple cells into a single cell with no defined delimeter. \"Hello\"\n",
    "* __=mytext & \" I think...\"__:  Concatenate text using '&'...You can merge both cell references and constant strings. \" Caught you smiling! I think...\"\n",
    "* __=TEXTJOIN(delimeter=\"-\", ignore_empty=TRUE, \"210\", \"867\", \"5309\")__: Place the delimeter between each string of text upon concatenation. \"210-867-5309\"\n",
    "* __=LEFT(mytext, 3)__:  Return the first 3 characters from the left.\n",
    "* __=RIGHT(mytext, 3)__: Return the first 3 characters from the right.\n",
    "* __=MID(MYTEXT, 2, 3)__: Return the first 3 characters from the left starting at 2."
   ]
  },
  {
   "cell_type": "markdown",
   "metadata": {},
   "source": [
    "### Lookup and Reference\n",
    "#### VLOOKUP : Vertical Lookup\n",
    "     - Looks for a value in the leftmost column of a table, and then returns a value in the same row from a column you specify. By default, the table must be sorted in an ascending order.\n",
    "* __=VLOOKUP__(lookup_value,table_array,col_index_num,range_lookup)"
   ]
  },
  {
   "cell_type": "markdown",
   "metadata": {},
   "source": [
    "* __Lookup_value__:   is the value to be found in the first row of the table and can be a value, a reference, or a text string.\n",
    "* __Table_array__:   is a table of text, numbers, or logical values in which data is looked up. Table_array can be a reference to a range or a range name.\n",
    "* __Col_index_num__: is the row number in table_array from which the matching value should be returned. The first row of values in the table is row 1.\n",
    "* __Range_lookup__: is a logical value: to find the closest match in the top row (sorted in ascending order) = TRUE or omitted; find an exact match = FALSE."
   ]
  },
  {
   "cell_type": "markdown",
   "metadata": {},
   "source": [
    "## Date & Time \n",
    "### Extracting date parts from a date :\n",
    "* `mydate = '01/01/2019'`\n",
    "* `=WEEKDAY(mydate)`\n",
    "* `=DAY(mydate)`\n",
    "* `=MONTH(mydate)`\n",
    "* `=YEAR(mydate)`\n",
    "\n",
    "### Formatting dates\n",
    "* `\"more number formats\"` in the data type drop down menu to define a custom date format.`\n",
    "* `yy: 19`\n",
    "* `yyyy: 2019`\n",
    "*  `m: 1`\n",
    "* `mm: 01`\n",
    "* `mmm: Jan`\n",
    "* `mmmm: January`\n",
    "* `d: 1`\n",
    "* `dd: 01`\n",
    "* `ddd: Tue`\n",
    "* `dddd: Tuesday`\n",
    "\n",
    "\n",
    "### Computing dates\n",
    "* <u>__example__: How many days are between 2018-11-22 and 2017-11-28?</u>\n",
    "    * __dateDiff__ = endDate - startDate\n",
    "    * Result is in days.\n",
    "    * __Convert to other units__ via division or multiplication: \n",
    "        * e.g. convert result to months by dividing results by 30.4. =dateDiff/30.4\n",
    "\n",
    "* <u>__What was the date 90 days ago?__</u>\n",
    "    * __newdate__ = mydate-90\n",
    "    * __To add or subtract any units other than days__, convert those units to days:\n",
    "        * e.g. convert hours to days by =h/24, convert years to days by = y * 365\n"
   ]
  },
  {
   "cell_type": "markdown",
   "metadata": {},
   "source": [
    "### <u> Math & Trig</u>\n",
    "* __ROUND__-(number,num_digits), __ROUNDDOWN__-(number,num_digits), __ROUNDUP__-(number,num_digits)\n",
    "* __TRUNC__-(number): will truncate the number by dropping the all decimal places.\n",
    "* __RAND__-(): Returns a random number greater than or equal to 0 and less than 1, evenly distributed (changes on recalculation).\n",
    "     * __RANDBETWEEN__(bottom, top)\n",
    "* __COMBIN__-(number,number_chosen): Returns the number of combinations for a given number of items WITHOUT repetitions. Number is the total number of items, and Number_chosen is the number of items in each combination.\n",
    "* __COMBINA__-(number,number_chosen): Returns the number of combinations WITH repetitions for a given number of items.\n",
    "* __LOG10__-(number): Returns the base-10 logarithm of a number.\n",
    "* __QUOTIENT__-(numerator,denominator)\n",
    "* __PRODUCT__-()\n",
    "* __SUM__-()\n",
    "* __SUMIF__-(range,criteria,sum_range)\n",
    "* __SUMIFS__-(sum_range,criteria_range,criteria,...)\n",
    "* __SUMPRODUCT__-(array1, array2): Returns the sum of the products of corresponding ranges or arrays.\n",
    "* __SUMSQ__-(): Returns the sum of the squares of the arguments. The arguments can be numbers, arrays, names, or references to cells that contain numbers.\n",
    "* __SUMX2MY2__-(): Sums the differences between the squares of two corresponding ranges or arrays.\n"
   ]
  },
  {
   "cell_type": "markdown",
   "metadata": {},
   "source": [
    "###  <u>Statistical</u>\n",
    "* __AVERAGE(), AVERAGEA(), AVERAGEIF(), AVERAGEIFS()__\n",
    "\n",
    "* __COUNT(), COUNTA(), COUNTIF(), COUNTIFS(), COUNTBLANK()__\n",
    "\n",
    "* __MIN(), MINA(), MINIFS(), MAX(), MAXA(), MAXIFS()__\n",
    "\n",
    "* __PERCENTILE.INC(), PERCENTILE.EXC(), QUARTILE.INC(), QUARTILE.EXC()__\n",
    "\n",
    "* __RANK(), PERCENTRANK.INC(), PERCENTRANK.EXC()__\n",
    "\n",
    "* __PERMUT(), PERMUTATIONA()__\n",
    "\n",
    "* __CORREL()__\n",
    "\n",
    "* __CHISQ.DIST(), CHISQ.INV(), CHISQ.TEST()__\n",
    "\n",
    "* __CONFIDENCE.NORM(), CONFIDENCE.T()__\n",
    "* __F.DIST(), F.INV(), F.TEST()__\n",
    "* __GAMMA.DIST(), GAMMA.INV(), GAMMA.TEST()__\n",
    "* __NORM.DIST(), NORM.INV(), NORM.TEST()__\n",
    "* __T.DIST(), T.INV(), T.TEST()__\n"
   ]
  }
 ],
 "metadata": {
  "kernelspec": {
   "display_name": "Python 3",
   "language": "python",
   "name": "python3"
  },
  "language_info": {
   "codemirror_mode": {
    "name": "ipython",
    "version": 3
   },
   "file_extension": ".py",
   "mimetype": "text/x-python",
   "name": "python",
   "nbconvert_exporter": "python",
   "pygments_lexer": "ipython3",
   "version": "3.8.5"
  }
 },
 "nbformat": 4,
 "nbformat_minor": 4
}
