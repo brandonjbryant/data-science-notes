{
 "cells": [
  {
   "cell_type": "markdown",
   "metadata": {},
   "source": [
    "## Tableau Products :\n",
    "\n",
    "\n",
    "* <a href=\"https://public.tableau.com/en-us/s/\">Tableau Public</a>\n",
    "\n",
    "* <a href=\"https://www.tableau.com/products/desktop\">Tableau Desktop</a>\n",
    "\n",
    "* <a href=\"https://www.tableau.com/products/server\">Tableau Server</a>\n",
    "\n",
    "* <a href=\"https://www.tableau.com/products/cloud-bi\">Tableau Online</a>\n",
    "\n",
    "* <a href=\"https://www.tableau.com/products/prep\">Tableau Prep</a> "
   ]
  },
  {
   "cell_type": "markdown",
   "metadata": {},
   "source": [
    "### Tableau Resources :\n",
    "\n",
    "*  <a href=\"https://public.tableau.com/en-us/s/resources\">Tableau How-to Videos, Sample Data, & Live Training</a> \n",
    "\n",
    "* <a href=\"https://public.tableau.com/en-us/s/gallery\">Viz Gallery</a>\n",
    "\n",
    "* <a href=\"https://public.tableau.com/en-us/s/authors#!/\">Leading Authors & Artists</a>\n",
    "\n",
    "### Examples of Charts :\n",
    "\n",
    "* <a href=\"https://public.tableau.com/en-us/search/blogs/creating%20charts\">Blog Posts on Creating Charts</a>\n",
    "\n",
    "* <a href=\"https://public.tableau.com/profile/technical.product.marketing#!/vizhome/UnemploymentHorizionChart_1/HorizonChart\">Horizon Chart: Unemployment</a>\n",
    "\n",
    "* <a href=\"https://public.tableau.com/profile/iting#!/vizhome/170414_tax2014-15_genderpaygap/malejobs\">Positive + Negative Bar Chart: Gender Pay Gap</a>\n",
    "\n",
    "* <a href=\"https://public.tableau.com/profile/tableaubims#!/vizhome/ArrowChartCometChart/Arrowchart\">Arrow Chart & Comet Chart: Sales</a>\n",
    "\n",
    "\n",
    "### Examples of Dashboards :\n",
    "\n",
    "* <a href=\"https://public.tableau.com/en-us/search/blogs/DASHBOARD\">Blog Posts on Dashboards</a>\n",
    "\n",
    "* <a href=\"https://public.tableau.com/s/blog/2013/10/dashboard-layout-and-design\">Blog: Designing Useful Dashboards on Tableau</a>\n",
    "\n",
    "* <a href=\"https://public.tableau.com/en-us/s/gallery/adams-twitter-analytics?gallery=featured\">Dashboard: Twitter Analytics</a>\n",
    "\n",
    "* <a href=\"https://public.tableau.com/profile/zillow.real.estate.research#!/vizhome/TopPlacestoRetire/Dashboard1\">Dashboard: Top Places to Retire</a>\n",
    "\n",
    "* <a href=\"https://public.tableau.com/s/blog/2015/06/using-custom-shapes-dashboard-filters\">How-to: Custom Filters</a>\n",
    "\n",
    "* <a href=\"https://public.tableau.com/s/blog/2017/12/how-add-illustrations-your-dashboard-and-why-you-should-care\">How-to: Add Visual Elements</a>"
   ]
  },
  {
   "cell_type": "markdown",
   "metadata": {},
   "source": [
    "### Examples of Stories :\n",
    "\n",
    "* <a href=\"https://public.tableau.com/en-us/s/gallery/journey-2018-world-series?gallery=votd\">2018 World Series</a>\n",
    "\n",
    "* <a href= \"https://public.tableau.com/profile/sean.oslin#!/vizhome/StMungoHospitalAnnualReportPart1/Dashboard1\">St. Mungo Hospital Annual Report</a>\n",
    "\n",
    "* <a href=\"https://public.tableau.com/profile/raycom.news.network#!/vizhome/Whichcountieshadthemostopioidprescriptionsin2015MobileVersion/Dashboard2\">Mobile example: Which countries has the most opiod prescriptions in 2015?</a>\n",
    "\n",
    "* <a href=\"https://public.tableau.com/en-us/s/gallery/2018-deloitte-technology-fast-500?gallery=featured\">Deloitte Technology Fast 500</a>\n",
    "\n",
    "* <a href=\"https://public.tableau.com/en-us/s/gallery/online-holiday-shopping?gallery=featured\">Holiday Shopping</a>\n",
    "\n",
    "* <a href=\"https://public.tableau.com/en-us/s/gallery/it-trends-2018?gallery=featured\">IT Trends 2018</a>\n",
    "\n",
    "* <a href=\"https://public.tableau.com/profile/andy.kriebel#!/vizhome/VisualVocabulary/VisualVocabulary\">A Data Viz Storyboard about Data Visualizations</a>"
   ]
  },
  {
   "cell_type": "markdown",
   "metadata": {},
   "source": [
    "### Tableau File Types\n",
    "\n",
    " `.twb` - <u>Tableau Workbook</u>: Stores visualization without source data.\n",
    " \n",
    "\n",
    "`.tds` - <u>Tableau Data Source</u>: Stores the server address, password, and other information required to access a datasource.\n",
    "\n",
    " `.tbm` - <u>Tableau Bookmark</u>: Stores a connection to a worksheet in another Tableau workbook.\n",
    "\n",
    " `.tde` - <u>Tableau Data Extract</u>: Stores Tableau data as a filtered and aggregated extract.\n",
    "\n",
    " `.twbx` - <u>Tableau Packaged Workbook</u>: Stores extracted data and visualizations for viewing in Tableau or Tableau Reader."
   ]
  },
  {
   "cell_type": "markdown",
   "metadata": {},
   "source": [
    "## Connecting to Data \n",
    "\n",
    "* The first step in building a visualizations in tableau is connecting to the data.\n",
    "\n",
    "#### Primary Types of Data Sources\n",
    " __Local Files__\n",
    " * `Excel`: .xls, .xlsx\n",
    " * `Text`: .csv, .txt, .tsv, .tab\n",
    " * `JSON` Files: .json\n",
    " * `PDF` Files: .pdf\n",
    " * `Spatial Files`: Esri File Geodatabases (gdb*.zip) \n",
    "                 Esri Shapefiles (.shp) \n",
    "                 MapInfo Tables (.tab) \n",
    "                 MapInfo Interchange Format (.mif) \n",
    "                 GeoJSON (.geojson) \n",
    "                 TopoJSON (.json, .topojson)\n",
    "                 KML (.kml)\n",
    " * `Statistical Files`: SAS (.sas7bdat) \n",
    "                     SPSS (.sav) \n",
    "                     R (.rda, .rdata)\n",
    "\n",
    "  __Servers__ \n",
    "  * `Google Sheets`\n",
    "  * `OData`: mysql database server, eg.\n",
    "  * `Web data connector`\n",
    "  \n",
    "  __Other data connectors__(not available in Tableau Public)\n",
    "  * <a href=\"https://www.tableau.com/products/desktop?_ga=2.168784937.943005315.1582736711-305547270.1582736711&_fsi=g1y4KoAD#data-sources\">Other Data Sources</a>"
   ]
  },
  {
   "cell_type": "markdown",
   "metadata": {},
   "source": [
    "## Connect to a File\n",
    "\n",
    "* __When connecting to a file__:\n",
    "    1. Select the file type\n",
    "    2. Navigate to the file you wish to connect to in your directory\n",
    "    3. Open\n",
    "\n",
    "* __On left side__:\n",
    "    * You will see Connections, Files & New Union\n",
    "    * Listed under Files, you will also see any other files in your current working directory that can be read by tableau.\n",
    "    \n",
    "* __In the Main Section__:\n",
    "    * You will see a sample (1,000 rows default) of the file you have connected to.\n",
    " "
   ]
  },
  {
   "cell_type": "markdown",
   "metadata": {},
   "source": [
    "## Join Files\n",
    "\n",
    "* __Join Columns__ : Connecting and merging multiple data sources, such as multiple files or spreadsheets.\n",
    "    * Can do an inner, left, right, or full outer join.\n",
    "    \n",
    "* __Union Rows__ : Can append rows from 2 sources if your columns map to each other. "
   ]
  },
  {
   "cell_type": "markdown",
   "metadata": {},
   "source": [
    "## Filter Data \n",
    "\n",
    "1. To do this, we will add a filter to the Level field.\n",
    "2. Filter (in top right) -> Add -> Add... -> Select field Level -> ...\n",
    "3. Set the criteria.\n",
    "\n",
    "`General & Wildcard Filters`\n",
    "   * Under the __General__ tab, you have ways to set criteria for exact matches to values in the Level field.\n",
    "   * Under the __Wildcard__ tab, you can set criteria for wildcard string matching.\n",
    "\n",
    "`Conditional Filters`\n",
    "   * Add a new filter, and select a field.\n",
    "   * Under the __Condition__ tab, let's add a condition 'By field'\n",
    "   \n",
    "`Top Filters` \n",
    "   * Filtering by rank\n",
    "   * __Top__ tab"
   ]
  },
  {
   "cell_type": "markdown",
   "metadata": {},
   "source": [
    "### Column Options : \n",
    "\n",
    "* `Rename`: Rename the column name\n",
    "\n",
    "* `Reset Name`: Reset the name of the column to the name in the source data. \n",
    "\n",
    "* `Copy Values`: Copying the values in the column to the clipboard.\n",
    "\n",
    "* `Hide`: Hide will hide the column from view. You can still reference the column, such as in calculated fields.\n",
    "\n",
    "* `Aliases (strings only)`: Aliases are useful when you want a value in a field to be a more user-friendly value. The alias does not change anything about the data in the backgroup, only what is displayed.\n",
    "\n",
    "* `Create Calculated Field`...: Create a new field based on existing fields.  \n",
    "\n",
    "* `Create Group`...: Used for grouping categories into a larger, higher hierarchical groups. \n",
    "\n",
    "* `Split` (strings only): Split strings at a common delimeter into multiple columns. \n",
    "\n",
    "* `Custom Split` (strings only): With custom split, you can specifiy the delimeter to split on. You can also specify how many columns to split off.\n",
    "\n",
    "* `Create Bins`... (numbers only): Bins are useful when you have a continuous variable and you want to reduce the noise and bin the values close to each other together. \n",
    "\n",
    "* `Pivot` (when selecting multiple fields): Use as you would when creating a pivot table in excel or Python.\n",
    "\n",
    "* `Merge Mismatched Fields` (when selecting multiple fields)\n",
    "\n",
    "* `Describe`: Describe is a useful resource to a quick view into the column. "
   ]
  },
  {
   "cell_type": "markdown",
   "metadata": {},
   "source": [
    "#### Column Sorting\n",
    "\n",
    "* Click the horizonal bar graph icon in the column header to sort that column.\n",
    "*  It will cycle through ascending, descending, and original sort as you click the icon. \n",
    "* When you hover over the column header, you can tell if it is sorted by the way the horizontal bar graph image is sorted.\n",
    "\n",
    "#### Getting Help \n",
    "\n",
    "* `F1 or the Help menu header`: you have options to get support, watch videos, see sample workbooks, sample gallery, as well as customizing settings & preferences.\n",
    "* <a href=\"onlinehelp.tableau.com\">Online Tableau Help</a>\n"
   ]
  },
  {
   "cell_type": "markdown",
   "metadata": {},
   "source": [
    "### Data Resources\n",
    "\n",
    "* https://ds.codeup.com/appendix/open_data/\n",
    "* https://public.tableau.com/en-us/s/resources"
   ]
  },
  {
   "cell_type": "markdown",
   "metadata": {},
   "source": [
    "#### References\n",
    "\n",
    "<a href=\"https://www.tableau.com/about/blog/2016/4/tableau-online-tips-extracts-live-connections-cloud-data-53351\">Medrano, Diego (April 14, 2016), Tableau Online tips: Extracts, live connections, & cloud data</a>"
   ]
  }
 ],
 "metadata": {
  "kernelspec": {
   "display_name": "Python 3",
   "language": "python",
   "name": "python3"
  },
  "language_info": {
   "codemirror_mode": {
    "name": "ipython",
    "version": 3
   },
   "file_extension": ".py",
   "mimetype": "text/x-python",
   "name": "python",
   "nbconvert_exporter": "python",
   "pygments_lexer": "ipython3",
   "version": "3.8.5"
  }
 },
 "nbformat": 4,
 "nbformat_minor": 4
}
